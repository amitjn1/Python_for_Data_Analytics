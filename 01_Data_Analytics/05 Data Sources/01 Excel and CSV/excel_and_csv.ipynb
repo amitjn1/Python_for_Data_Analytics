{
 "cells": [
  {
   "cell_type": "markdown",
   "id": "147adcda",
   "metadata": {},
   "source": [
    "# Excel and CSV"
   ]
  },
  {
   "cell_type": "code",
   "execution_count": null,
   "id": "8a728d42",
   "metadata": {},
   "outputs": [],
   "source": [
    "import pandas as pd"
   ]
  },
  {
   "cell_type": "markdown",
   "id": "dbb299f4",
   "metadata": {},
   "source": [
    "## Input\n",
    "read_csv: https://pandas.pydata.org/docs/reference/api/pandas.read_csv.html\n",
    "\n",
    "read_excel: https://pandas.pydata.org/docs/reference/api/pandas.read_excel.html"
   ]
  },
  {
   "cell_type": "code",
   "execution_count": null,
   "id": "28d10827",
   "metadata": {},
   "outputs": [],
   "source": [
    "countries_excel = pd.read_excel('top_10_countries.xls', sheet_name='data')"
   ]
  },
  {
   "cell_type": "code",
   "execution_count": null,
   "id": "40a17b0c",
   "metadata": {},
   "outputs": [],
   "source": [
    "countries_excel.head()"
   ]
  },
  {
   "cell_type": "code",
   "execution_count": null,
   "id": "6d2e9ff7",
   "metadata": {},
   "outputs": [],
   "source": [
    "countries_csv = pd.read_csv('top_10_countries.csv')"
   ]
  },
  {
   "cell_type": "code",
   "execution_count": null,
   "id": "c2a75438",
   "metadata": {},
   "outputs": [],
   "source": [
    "countries_csv.head()"
   ]
  },
  {
   "cell_type": "markdown",
   "id": "43b53330",
   "metadata": {},
   "source": [
    "## Output\n",
    "to_excel: https://pandas.pydata.org/docs/reference/api/pandas.DataFrame.to_excel.html\n",
    "\n",
    "to_csv: https://pandas.pydata.org/docs/reference/api/pandas.DataFrame.to_csv.html"
   ]
  },
  {
   "cell_type": "code",
   "execution_count": null,
   "id": "ec8b7f92",
   "metadata": {},
   "outputs": [],
   "source": [
    "countries_out = countries_excel.pivot_table(index='Region', values='Population', aggfunc='sum')"
   ]
  },
  {
   "cell_type": "code",
   "execution_count": null,
   "id": "367d3ed2",
   "metadata": {},
   "outputs": [],
   "source": [
    "countries_out"
   ]
  },
  {
   "cell_type": "code",
   "execution_count": null,
   "id": "6a00acc6",
   "metadata": {},
   "outputs": [],
   "source": [
    "# Change this to be the directory and filename of your choice\n",
    "\n",
    "countries_out.to_csv('countries_out.csv')"
   ]
  },
  {
   "cell_type": "code",
   "execution_count": null,
   "id": "92b3c63b",
   "metadata": {},
   "outputs": [],
   "source": [
    "# Change this to be the directory and filename of your choice\n",
    "\n",
    "countries_out.to_excel('countries_out.xlsx')"
   ]
  }
 ],
 "metadata": {
  "kernelspec": {
   "display_name": "Python 3 (ipykernel)",
   "language": "python",
   "name": "python3"
  },
  "language_info": {
   "codemirror_mode": {
    "name": "ipython",
    "version": 3
   },
   "file_extension": ".py",
   "mimetype": "text/x-python",
   "name": "python",
   "nbconvert_exporter": "python",
   "pygments_lexer": "ipython3",
   "version": "3.12.4"
  }
 },
 "nbformat": 4,
 "nbformat_minor": 5
}
