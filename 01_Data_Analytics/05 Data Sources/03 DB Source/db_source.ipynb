{
 "cells": [
  {
   "cell_type": "markdown",
   "metadata": {},
   "source": [
    "# SQL Script for PostgreSQL\n",
    "\n",
    "1. Create a New User/Password\n",
    "\n",
    "```\n",
    "-- Connect to the default database (postgres)\n",
    "\\c postgres\n",
    "\n",
    "-- Create a new user with a password\n",
    "CREATE USER sample_user WITH PASSWORD 'sample_password';\n",
    "\n",
    "-- Grant privileges to the new user\n",
    "ALTER USER sample_user WITH SUPERUSER;\n",
    "```\n",
    "\n",
    "2. Create a New Database and Schema\n",
    "\n",
    "```\n",
    "-- Create a new database\n",
    "CREATE DATABASE sample_db;\n",
    "\n",
    "-- Connect to the new database\n",
    "\\c sample_db\n",
    "\n",
    "-- Create a new schema\n",
    "CREATE SCHEMA sample_schema;\n",
    "```\n",
    "\n",
    "3. Create Tables with Sample Data\n",
    "\n",
    "```\n",
    "-- Create a sample table\n",
    "CREATE TABLE sample_schema.sample_table (\n",
    "    id SERIAL PRIMARY KEY,\n",
    "    name VARCHAR(50),\n",
    "    age INT,\n",
    "    join_date DATE\n",
    ");\n",
    "\n",
    "-- Insert sample data into the table\n",
    "INSERT INTO sample_schema.sample_table (name, age, join_date) VALUES\n",
    "('Alice', 25, '2022-01-15'),\n",
    "('Bob', 30, '2021-07-23'),\n",
    "('Charlie', 35, '2023-03-30');\n",
    "```"
   ]
  },
  {
   "cell_type": "markdown",
   "metadata": {},
   "source": [
    "# Install Required Library in Conda\n",
    "\n",
    "Open Anaconda Powershell and run following command\n",
    "\n",
    "```\n",
    "> conda install conda-forge::psycopg2-binary\n",
    "```"
   ]
  },
  {
   "cell_type": "code",
   "execution_count": null,
   "metadata": {},
   "outputs": [],
   "source": [
    "import pandas as pd\n",
    "from sqlalchemy import create_engine"
   ]
  },
  {
   "cell_type": "code",
   "execution_count": null,
   "metadata": {},
   "outputs": [],
   "source": [
    "# Database connection details\n",
    "db_user = 'sample_user'\n",
    "db_password = 'sample_password'\n",
    "db_host = 'localhost'\n",
    "db_port = '5432'\n",
    "db_name = 'sample_db'\n",
    "\n",
    "# Create a connection string\n",
    "connection_string = f'postgresql://{db_user}:{db_password}@{db_host}:{db_port}/{db_name}'\n",
    "\n",
    "connection_string"
   ]
  },
  {
   "cell_type": "code",
   "execution_count": null,
   "metadata": {},
   "outputs": [],
   "source": [
    "# Create a database engine\n",
    "engine = create_engine(connection_string)"
   ]
  },
  {
   "cell_type": "code",
   "execution_count": null,
   "metadata": {},
   "outputs": [],
   "source": [
    "# Query to select data from the sample_table\n",
    "query = \"SELECT * FROM sample_schema.sample_table\"\n",
    "\n",
    "# Load data into a Pandas DataFrame\n",
    "df = pd.read_sql(query, engine)"
   ]
  },
  {
   "cell_type": "code",
   "execution_count": null,
   "metadata": {},
   "outputs": [],
   "source": [
    "# Display the DataFrame\n",
    "print(\"DataFrame loaded from database:\")\n",
    "print(df)"
   ]
  },
  {
   "cell_type": "code",
   "execution_count": null,
   "metadata": {},
   "outputs": [],
   "source": [
    "# Data Profiling\n",
    "print(\"\\nData Profiling:\")\n",
    "print(\"Shape of the DataFrame:\", df.shape)\n",
    "print(\"Data Types:\\n\", df.dtypes)\n",
    "print(\"Summary Statistics:\\n\", df.describe())"
   ]
  },
  {
   "cell_type": "code",
   "execution_count": null,
   "metadata": {},
   "outputs": [],
   "source": [
    "# Data Transformations\n",
    "# Example: Add a new column calculating years since joining\n",
    "df['years_since_joining'] = (pd.to_datetime('today') - pd.to_datetime(df['join_date'])).dt.days // 365\n",
    "\n",
    "# Example: Filter data for age greater than 30\n",
    "filtered_df = df[df['age'] > 30]\n",
    "\n",
    "print(\"\\nTransformed DataFrame:\")\n",
    "print(filtered_df)"
   ]
  },
  {
   "cell_type": "code",
   "execution_count": null,
   "metadata": {},
   "outputs": [],
   "source": [
    "# Write the transformed DataFrame back to the database as a new table\n",
    "filtered_df.to_sql('filtered_sample_table', engine, schema='sample_schema', if_exists='replace', index=False)\n",
    "print(\"\\nFiltered DataFrame written back to the database as 'filtered_sample_table'.\")"
   ]
  }
 ],
 "metadata": {
  "kernelspec": {
   "display_name": "base",
   "language": "python",
   "name": "python3"
  },
  "language_info": {
   "codemirror_mode": {
    "name": "ipython",
    "version": 3
   },
   "file_extension": ".py",
   "mimetype": "text/x-python",
   "name": "python",
   "nbconvert_exporter": "python",
   "pygments_lexer": "ipython3",
   "version": "3.12.4"
  }
 },
 "nbformat": 4,
 "nbformat_minor": 2
}
