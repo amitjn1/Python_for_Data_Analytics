{
 "cells": [
  {
   "cell_type": "markdown",
   "id": "fad1607b",
   "metadata": {},
   "source": [
    "# Challenge Questions - NumPy"
   ]
  },
  {
   "cell_type": "markdown",
   "id": "357a4035",
   "metadata": {},
   "source": [
    "# Instructions:\n",
    "• Please ensure you don't overwrite any existing cells. Add new cells below by pressing ALT+ENTER\n",
    "\n",
    "• Attempt all of the questions\n",
    "\n",
    "• You are encouraged to look online for help should you need it"
   ]
  },
  {
   "cell_type": "markdown",
   "id": "a216156e",
   "metadata": {},
   "source": [
    "# "
   ]
  },
  {
   "cell_type": "markdown",
   "id": "620b8fa0",
   "metadata": {},
   "source": [
    "## Q1: Import the NumPy library"
   ]
  },
  {
   "cell_type": "code",
   "execution_count": 1,
   "id": "3261afef",
   "metadata": {},
   "outputs": [],
   "source": [
    "#Type your code here\n",
    "import numpy as np"
   ]
  },
  {
   "cell_type": "code",
   "execution_count": null,
   "id": "07f42443",
   "metadata": {},
   "outputs": [],
   "source": []
  },
  {
   "cell_type": "code",
   "execution_count": null,
   "id": "651723ec",
   "metadata": {},
   "outputs": [],
   "source": []
  },
  {
   "cell_type": "markdown",
   "id": "fabc79f4",
   "metadata": {},
   "source": [
    "## Q2: Create a 5 row by 3 column array that contains only the value 7"
   ]
  },
  {
   "cell_type": "code",
   "execution_count": 2,
   "id": "4c307107",
   "metadata": {},
   "outputs": [
    {
     "data": {
      "text/plain": [
       "array([[7, 7, 7],\n",
       "       [7, 7, 7],\n",
       "       [7, 7, 7],\n",
       "       [7, 7, 7],\n",
       "       [7, 7, 7]])"
      ]
     },
     "execution_count": 2,
     "metadata": {},
     "output_type": "execute_result"
    }
   ],
   "source": [
    "# Type your code here\n",
    "np.full((5,3),7)"
   ]
  },
  {
   "cell_type": "code",
   "execution_count": null,
   "id": "fd6880b7",
   "metadata": {},
   "outputs": [],
   "source": []
  },
  {
   "cell_type": "code",
   "execution_count": null,
   "id": "2ec961e8",
   "metadata": {},
   "outputs": [],
   "source": []
  },
  {
   "cell_type": "markdown",
   "id": "e39771ee",
   "metadata": {},
   "source": [
    "## Q3: Create a 3 row by 4 column array that contains evenly spaced values between 0-100"
   ]
  },
  {
   "cell_type": "code",
   "execution_count": 3,
   "id": "553c0f5a",
   "metadata": {},
   "outputs": [
    {
     "data": {
      "text/plain": [
       "array([[  0.        ,   9.09090909,  18.18181818,  27.27272727],\n",
       "       [ 36.36363636,  45.45454545,  54.54545455,  63.63636364],\n",
       "       [ 72.72727273,  81.81818182,  90.90909091, 100.        ]])"
      ]
     },
     "execution_count": 3,
     "metadata": {},
     "output_type": "execute_result"
    }
   ],
   "source": [
    "# Type your code here\n",
    "np.linspace(0,100,num=12).reshape(3,4)"
   ]
  },
  {
   "cell_type": "code",
   "execution_count": null,
   "id": "459f6c1e",
   "metadata": {},
   "outputs": [],
   "source": []
  },
  {
   "cell_type": "code",
   "execution_count": null,
   "id": "042f1a58",
   "metadata": {},
   "outputs": [],
   "source": []
  },
  {
   "cell_type": "markdown",
   "id": "d42cbb9e",
   "metadata": {},
   "source": [
    "## Q4 Take the shape from Q3 and transform it so that the numbers increment down the columns rather than along the rows"
   ]
  },
  {
   "cell_type": "code",
   "execution_count": 4,
   "id": "8fd5940d",
   "metadata": {},
   "outputs": [
    {
     "data": {
      "text/plain": [
       "array([[  0.        ,  36.36363636,  72.72727273],\n",
       "       [  9.09090909,  45.45454545,  81.81818182],\n",
       "       [ 18.18181818,  54.54545455,  90.90909091],\n",
       "       [ 27.27272727,  63.63636364, 100.        ]])"
      ]
     },
     "execution_count": 4,
     "metadata": {},
     "output_type": "execute_result"
    }
   ],
   "source": [
    "# Type your code here\n",
    "np.linspace(0,100,num=12).reshape(3,4).transpose()"
   ]
  },
  {
   "cell_type": "code",
   "execution_count": null,
   "id": "927fbc1c",
   "metadata": {},
   "outputs": [],
   "source": []
  },
  {
   "cell_type": "code",
   "execution_count": null,
   "id": "89c4ddea",
   "metadata": {},
   "outputs": [],
   "source": []
  },
  {
   "cell_type": "markdown",
   "id": "4cc166eb",
   "metadata": {},
   "source": [
    "## Q5 From the 2D array stored in the variable \"a\" below use slicing to return the below segment"
   ]
  },
  {
   "cell_type": "code",
   "execution_count": 5,
   "id": "9f4ad168",
   "metadata": {},
   "outputs": [
    {
     "data": {
      "text/plain": [
       "array([[ 0.,  1.,  2.,  3.,  4.],\n",
       "       [ 5.,  6.,  7.,  8.,  9.],\n",
       "       [10., 11., 12., 13., 14.],\n",
       "       [15., 16., 17., 18., 19.],\n",
       "       [20., 21., 22., 23., 24.]])"
      ]
     },
     "execution_count": 5,
     "metadata": {},
     "output_type": "execute_result"
    }
   ],
   "source": [
    "# Run this cell first\n",
    "a = np.linspace(0,24,num=25).reshape(5,5)\n",
    "a"
   ]
  },
  {
   "cell_type": "raw",
   "id": "d71e4696",
   "metadata": {},
   "source": [
    "Return this segment:\n",
    "([[11., 12., 13.],\n",
    "  [16., 17., 18.]])"
   ]
  },
  {
   "cell_type": "code",
   "execution_count": 6,
   "id": "3225328a",
   "metadata": {},
   "outputs": [
    {
     "data": {
      "text/plain": [
       "array([[11., 12., 13.],\n",
       "       [16., 17., 18.]])"
      ]
     },
     "execution_count": 6,
     "metadata": {},
     "output_type": "execute_result"
    }
   ],
   "source": [
    "# Type your code here\n",
    "a[2:4,1:4]"
   ]
  },
  {
   "cell_type": "code",
   "execution_count": null,
   "id": "d762913d",
   "metadata": {},
   "outputs": [],
   "source": []
  },
  {
   "cell_type": "code",
   "execution_count": null,
   "id": "7f718930",
   "metadata": {},
   "outputs": [],
   "source": []
  },
  {
   "cell_type": "markdown",
   "id": "37bd42b4",
   "metadata": {},
   "source": [
    "## Q6: Return only elements that are greater than 12 from the same array \"a\" as Q5"
   ]
  },
  {
   "cell_type": "code",
   "execution_count": 7,
   "id": "7cc51171",
   "metadata": {},
   "outputs": [
    {
     "data": {
      "text/plain": [
       "array([13., 14., 15., 16., 17., 18., 19., 20., 21., 22., 23., 24.])"
      ]
     },
     "execution_count": 7,
     "metadata": {},
     "output_type": "execute_result"
    }
   ],
   "source": [
    "# Type your code here\n",
    "a[a>12]"
   ]
  },
  {
   "cell_type": "code",
   "execution_count": null,
   "id": "fa6e2330",
   "metadata": {},
   "outputs": [],
   "source": []
  },
  {
   "cell_type": "code",
   "execution_count": null,
   "id": "8b5a5f86",
   "metadata": {},
   "outputs": [],
   "source": []
  },
  {
   "cell_type": "markdown",
   "id": "6506be8c",
   "metadata": {},
   "source": [
    "## Q7: There is a file called 'tfl-daily-cycle-hires-2018.csv' saved in the same directory as this notebook. We will be needing only the \"Number of Bicycle Hires\" data.\n",
    "1. Load and store it in a variable called tfl_18 and check the shape of the array. \n",
    "2. Check the shape of the array\n",
    "3. Change the array to be a 2D array of shape (365,1)\n",
    "\n",
    "### This file contains the daily cycle hire numbers for the year 2018.\n",
    "\n",
    "### Hint: Consider the use of appropriate optional arguments in whatever function you choose to use."
   ]
  },
  {
   "cell_type": "code",
   "execution_count": 12,
   "id": "dca9999e",
   "metadata": {},
   "outputs": [],
   "source": [
    "# Load the data here\n",
    "tfl_18=np.loadtxt('tfl-daily-cycle-hires-2018.csv',usecols=1, skiprows=1, delimiter=',')"
   ]
  },
  {
   "cell_type": "code",
   "execution_count": 14,
   "id": "2c525120",
   "metadata": {},
   "outputs": [
    {
     "data": {
      "text/plain": [
       "array([10235., 14394., 20265., 17543., 21759., 13920., 12259., 23374.,\n",
       "       24683., 26787., 25222., 24696., 17512., 15070., 19161., 26921.,\n",
       "       26934., 26471., 25799.,  9398.,  5859., 26337., 26003., 20206.,\n",
       "       28189., 26430., 14472., 17512., 26371., 28002., 24117., 25525.,\n",
       "       25331.,  8975., 13833., 23898., 25349., 25388., 25791., 21037.,\n",
       "        9956., 14621., 24719., 20931., 18866., 25264., 25411., 23169.,\n",
       "       18624., 19879., 25055., 26434., 26179., 23067., 16522., 14037.,\n",
       "       19204., 18741., 10619.,  8744.,  8234.,  7924., 10853., 24818.,\n",
       "       26301., 22044., 25967., 18912., 18717., 16259., 19996., 28069.,\n",
       "       28769., 25318., 28308.,  8106.,  6624., 20488., 24582., 27719.,\n",
       "       27228., 26894., 18804., 19723., 29486., 22603., 15800., 20237.,\n",
       "        6362., 11032., 13504.,  7998., 22708., 23173., 30508., 30690.,\n",
       "       25909.,  9759., 16324., 26751., 24883., 26473., 27363., 34235.,\n",
       "       21324., 30730., 33025., 40544., 43585., 45048., 42328., 38395.,\n",
       "       35940., 33430., 33426., 34995., 21387., 17368., 15822., 17112.,\n",
       "       34598., 23727., 35477., 36447., 39070., 40606., 45435., 41579.,\n",
       "       41130., 38054., 38386., 16717., 29190., 38095., 42106., 34627.,\n",
       "       37549., 37305., 36895., 39964., 38800., 41242., 38229., 31970.,\n",
       "       35108., 33573., 33192., 36742., 24312., 34884., 37677., 37293.,\n",
       "       38293., 39871., 35255., 37048., 41592., 37841., 39576., 36466.,\n",
       "       38562., 41027., 38487., 40569., 37871., 39862., 31329., 26769.,\n",
       "       39768., 41862., 41134., 41533., 41765., 38772., 38982., 44565.,\n",
       "       46084., 44788., 43075., 43081., 38522., 37334., 42556., 44655.,\n",
       "       43511., 44052., 43143., 36308., 38196., 41893., 43535., 44003.,\n",
       "       41826., 38879., 37733., 37299., 41828., 43392., 43183., 42857.,\n",
       "       40297., 38763., 37683., 42509., 44195., 44870., 43343., 34606.,\n",
       "       41145., 18974., 38274., 42260., 43691., 43292., 40908., 39318.,\n",
       "       40220., 41963., 40954., 42676., 20574., 29253., 33214., 23113.,\n",
       "       36510., 40735., 40930., 28400., 36869., 31691., 32209., 37839.,\n",
       "       40293., 38401., 34492., 27839., 25490.,  8177., 25059., 34791.,\n",
       "       27070., 37001., 35209., 35326., 35048., 36068., 36581., 36059.,\n",
       "       34778., 35451., 28318., 30598., 36965., 37221., 33403., 38708.,\n",
       "       35332., 33465., 32055., 39190., 38360., 37027., 35317., 32942.,\n",
       "       12376., 13192., 34563., 36730., 39281., 39835., 35817., 32941.,\n",
       "       25254., 34411., 37515., 38434., 36930., 39569., 10043., 25713.,\n",
       "       35156., 39132., 39398., 35875., 35747., 36393., 10292., 28044.,\n",
       "       37920., 30482., 35206., 34707., 32588., 32484., 34430., 34889.,\n",
       "       35656., 34640., 27636., 18756., 13675., 29409., 30269., 32891.,\n",
       "       23475., 31083., 25142., 21829., 31421., 33038., 27656., 32933.,\n",
       "       27403., 14732., 18455., 26077., 32062., 33339., 33043., 28581.,\n",
       "       20518.,  9585., 18246., 15237., 25022., 26112., 25881., 15813.,\n",
       "       14529., 27509., 22128., 22846., 25714., 28615., 14046., 15990.,\n",
       "       25801., 28982., 23816., 16600., 18608., 16515., 15441., 27880.,\n",
       "       28904., 27494., 25997., 24076.,  8076., 12123., 24973., 20180.,\n",
       "       22425., 23694., 19169., 13310.,  6748., 10043., 35267., 10841.,\n",
       "       12310., 13794., 13100., 12922., 16305.])"
      ]
     },
     "execution_count": 14,
     "metadata": {},
     "output_type": "execute_result"
    }
   ],
   "source": [
    "# Check the shape here\n",
    "tfl_18.shape\n",
    "tfl_18"
   ]
  },
  {
   "cell_type": "code",
   "execution_count": 10,
   "id": "98e5fd80",
   "metadata": {},
   "outputs": [],
   "source": [
    "# Change the shape here\n",
    "tfl_18=tfl_18.reshape(365,1)"
   ]
  },
  {
   "cell_type": "code",
   "execution_count": 11,
   "id": "1415c211",
   "metadata": {},
   "outputs": [
    {
     "data": {
      "text/plain": [
       "array([[10235.],\n",
       "       [14394.],\n",
       "       [20265.],\n",
       "       [17543.],\n",
       "       [21759.],\n",
       "       [13920.],\n",
       "       [12259.],\n",
       "       [23374.],\n",
       "       [24683.],\n",
       "       [26787.],\n",
       "       [25222.],\n",
       "       [24696.],\n",
       "       [17512.],\n",
       "       [15070.],\n",
       "       [19161.],\n",
       "       [26921.],\n",
       "       [26934.],\n",
       "       [26471.],\n",
       "       [25799.],\n",
       "       [ 9398.],\n",
       "       [ 5859.],\n",
       "       [26337.],\n",
       "       [26003.],\n",
       "       [20206.],\n",
       "       [28189.],\n",
       "       [26430.],\n",
       "       [14472.],\n",
       "       [17512.],\n",
       "       [26371.],\n",
       "       [28002.],\n",
       "       [24117.],\n",
       "       [25525.],\n",
       "       [25331.],\n",
       "       [ 8975.],\n",
       "       [13833.],\n",
       "       [23898.],\n",
       "       [25349.],\n",
       "       [25388.],\n",
       "       [25791.],\n",
       "       [21037.],\n",
       "       [ 9956.],\n",
       "       [14621.],\n",
       "       [24719.],\n",
       "       [20931.],\n",
       "       [18866.],\n",
       "       [25264.],\n",
       "       [25411.],\n",
       "       [23169.],\n",
       "       [18624.],\n",
       "       [19879.],\n",
       "       [25055.],\n",
       "       [26434.],\n",
       "       [26179.],\n",
       "       [23067.],\n",
       "       [16522.],\n",
       "       [14037.],\n",
       "       [19204.],\n",
       "       [18741.],\n",
       "       [10619.],\n",
       "       [ 8744.],\n",
       "       [ 8234.],\n",
       "       [ 7924.],\n",
       "       [10853.],\n",
       "       [24818.],\n",
       "       [26301.],\n",
       "       [22044.],\n",
       "       [25967.],\n",
       "       [18912.],\n",
       "       [18717.],\n",
       "       [16259.],\n",
       "       [19996.],\n",
       "       [28069.],\n",
       "       [28769.],\n",
       "       [25318.],\n",
       "       [28308.],\n",
       "       [ 8106.],\n",
       "       [ 6624.],\n",
       "       [20488.],\n",
       "       [24582.],\n",
       "       [27719.],\n",
       "       [27228.],\n",
       "       [26894.],\n",
       "       [18804.],\n",
       "       [19723.],\n",
       "       [29486.],\n",
       "       [22603.],\n",
       "       [15800.],\n",
       "       [20237.],\n",
       "       [ 6362.],\n",
       "       [11032.],\n",
       "       [13504.],\n",
       "       [ 7998.],\n",
       "       [22708.],\n",
       "       [23173.],\n",
       "       [30508.],\n",
       "       [30690.],\n",
       "       [25909.],\n",
       "       [ 9759.],\n",
       "       [16324.],\n",
       "       [26751.],\n",
       "       [24883.],\n",
       "       [26473.],\n",
       "       [27363.],\n",
       "       [34235.],\n",
       "       [21324.],\n",
       "       [30730.],\n",
       "       [33025.],\n",
       "       [40544.],\n",
       "       [43585.],\n",
       "       [45048.],\n",
       "       [42328.],\n",
       "       [38395.],\n",
       "       [35940.],\n",
       "       [33430.],\n",
       "       [33426.],\n",
       "       [34995.],\n",
       "       [21387.],\n",
       "       [17368.],\n",
       "       [15822.],\n",
       "       [17112.],\n",
       "       [34598.],\n",
       "       [23727.],\n",
       "       [35477.],\n",
       "       [36447.],\n",
       "       [39070.],\n",
       "       [40606.],\n",
       "       [45435.],\n",
       "       [41579.],\n",
       "       [41130.],\n",
       "       [38054.],\n",
       "       [38386.],\n",
       "       [16717.],\n",
       "       [29190.],\n",
       "       [38095.],\n",
       "       [42106.],\n",
       "       [34627.],\n",
       "       [37549.],\n",
       "       [37305.],\n",
       "       [36895.],\n",
       "       [39964.],\n",
       "       [38800.],\n",
       "       [41242.],\n",
       "       [38229.],\n",
       "       [31970.],\n",
       "       [35108.],\n",
       "       [33573.],\n",
       "       [33192.],\n",
       "       [36742.],\n",
       "       [24312.],\n",
       "       [34884.],\n",
       "       [37677.],\n",
       "       [37293.],\n",
       "       [38293.],\n",
       "       [39871.],\n",
       "       [35255.],\n",
       "       [37048.],\n",
       "       [41592.],\n",
       "       [37841.],\n",
       "       [39576.],\n",
       "       [36466.],\n",
       "       [38562.],\n",
       "       [41027.],\n",
       "       [38487.],\n",
       "       [40569.],\n",
       "       [37871.],\n",
       "       [39862.],\n",
       "       [31329.],\n",
       "       [26769.],\n",
       "       [39768.],\n",
       "       [41862.],\n",
       "       [41134.],\n",
       "       [41533.],\n",
       "       [41765.],\n",
       "       [38772.],\n",
       "       [38982.],\n",
       "       [44565.],\n",
       "       [46084.],\n",
       "       [44788.],\n",
       "       [43075.],\n",
       "       [43081.],\n",
       "       [38522.],\n",
       "       [37334.],\n",
       "       [42556.],\n",
       "       [44655.],\n",
       "       [43511.],\n",
       "       [44052.],\n",
       "       [43143.],\n",
       "       [36308.],\n",
       "       [38196.],\n",
       "       [41893.],\n",
       "       [43535.],\n",
       "       [44003.],\n",
       "       [41826.],\n",
       "       [38879.],\n",
       "       [37733.],\n",
       "       [37299.],\n",
       "       [41828.],\n",
       "       [43392.],\n",
       "       [43183.],\n",
       "       [42857.],\n",
       "       [40297.],\n",
       "       [38763.],\n",
       "       [37683.],\n",
       "       [42509.],\n",
       "       [44195.],\n",
       "       [44870.],\n",
       "       [43343.],\n",
       "       [34606.],\n",
       "       [41145.],\n",
       "       [18974.],\n",
       "       [38274.],\n",
       "       [42260.],\n",
       "       [43691.],\n",
       "       [43292.],\n",
       "       [40908.],\n",
       "       [39318.],\n",
       "       [40220.],\n",
       "       [41963.],\n",
       "       [40954.],\n",
       "       [42676.],\n",
       "       [20574.],\n",
       "       [29253.],\n",
       "       [33214.],\n",
       "       [23113.],\n",
       "       [36510.],\n",
       "       [40735.],\n",
       "       [40930.],\n",
       "       [28400.],\n",
       "       [36869.],\n",
       "       [31691.],\n",
       "       [32209.],\n",
       "       [37839.],\n",
       "       [40293.],\n",
       "       [38401.],\n",
       "       [34492.],\n",
       "       [27839.],\n",
       "       [25490.],\n",
       "       [ 8177.],\n",
       "       [25059.],\n",
       "       [34791.],\n",
       "       [27070.],\n",
       "       [37001.],\n",
       "       [35209.],\n",
       "       [35326.],\n",
       "       [35048.],\n",
       "       [36068.],\n",
       "       [36581.],\n",
       "       [36059.],\n",
       "       [34778.],\n",
       "       [35451.],\n",
       "       [28318.],\n",
       "       [30598.],\n",
       "       [36965.],\n",
       "       [37221.],\n",
       "       [33403.],\n",
       "       [38708.],\n",
       "       [35332.],\n",
       "       [33465.],\n",
       "       [32055.],\n",
       "       [39190.],\n",
       "       [38360.],\n",
       "       [37027.],\n",
       "       [35317.],\n",
       "       [32942.],\n",
       "       [12376.],\n",
       "       [13192.],\n",
       "       [34563.],\n",
       "       [36730.],\n",
       "       [39281.],\n",
       "       [39835.],\n",
       "       [35817.],\n",
       "       [32941.],\n",
       "       [25254.],\n",
       "       [34411.],\n",
       "       [37515.],\n",
       "       [38434.],\n",
       "       [36930.],\n",
       "       [39569.],\n",
       "       [10043.],\n",
       "       [25713.],\n",
       "       [35156.],\n",
       "       [39132.],\n",
       "       [39398.],\n",
       "       [35875.],\n",
       "       [35747.],\n",
       "       [36393.],\n",
       "       [10292.],\n",
       "       [28044.],\n",
       "       [37920.],\n",
       "       [30482.],\n",
       "       [35206.],\n",
       "       [34707.],\n",
       "       [32588.],\n",
       "       [32484.],\n",
       "       [34430.],\n",
       "       [34889.],\n",
       "       [35656.],\n",
       "       [34640.],\n",
       "       [27636.],\n",
       "       [18756.],\n",
       "       [13675.],\n",
       "       [29409.],\n",
       "       [30269.],\n",
       "       [32891.],\n",
       "       [23475.],\n",
       "       [31083.],\n",
       "       [25142.],\n",
       "       [21829.],\n",
       "       [31421.],\n",
       "       [33038.],\n",
       "       [27656.],\n",
       "       [32933.],\n",
       "       [27403.],\n",
       "       [14732.],\n",
       "       [18455.],\n",
       "       [26077.],\n",
       "       [32062.],\n",
       "       [33339.],\n",
       "       [33043.],\n",
       "       [28581.],\n",
       "       [20518.],\n",
       "       [ 9585.],\n",
       "       [18246.],\n",
       "       [15237.],\n",
       "       [25022.],\n",
       "       [26112.],\n",
       "       [25881.],\n",
       "       [15813.],\n",
       "       [14529.],\n",
       "       [27509.],\n",
       "       [22128.],\n",
       "       [22846.],\n",
       "       [25714.],\n",
       "       [28615.],\n",
       "       [14046.],\n",
       "       [15990.],\n",
       "       [25801.],\n",
       "       [28982.],\n",
       "       [23816.],\n",
       "       [16600.],\n",
       "       [18608.],\n",
       "       [16515.],\n",
       "       [15441.],\n",
       "       [27880.],\n",
       "       [28904.],\n",
       "       [27494.],\n",
       "       [25997.],\n",
       "       [24076.],\n",
       "       [ 8076.],\n",
       "       [12123.],\n",
       "       [24973.],\n",
       "       [20180.],\n",
       "       [22425.],\n",
       "       [23694.],\n",
       "       [19169.],\n",
       "       [13310.],\n",
       "       [ 6748.],\n",
       "       [10043.],\n",
       "       [35267.],\n",
       "       [10841.],\n",
       "       [12310.],\n",
       "       [13794.],\n",
       "       [13100.],\n",
       "       [12922.],\n",
       "       [16305.]])"
      ]
     },
     "execution_count": 11,
     "metadata": {},
     "output_type": "execute_result"
    }
   ],
   "source": [
    "tfl_18"
   ]
  },
  {
   "cell_type": "code",
   "execution_count": null,
   "id": "04496890",
   "metadata": {},
   "outputs": [],
   "source": []
  },
  {
   "cell_type": "markdown",
   "id": "ca7ba377",
   "metadata": {},
   "source": [
    "## Q8: There is a file called 'tfl-daily-cycle-hires-2019.csv' saved in the same directory as this notebook. We will be needing only the \"Number of Bicycle Hires\" data.\n",
    "1. Load and store it in a variable called tfl_19 and check the shape of the array. \n",
    "2. Check the shape of the array\n",
    "3. Change the array to be a 2D array of shape (365,1)"
   ]
  },
  {
   "cell_type": "code",
   "execution_count": null,
   "id": "77084567",
   "metadata": {},
   "outputs": [],
   "source": [
    "# Load the data here\n"
   ]
  },
  {
   "cell_type": "code",
   "execution_count": null,
   "id": "9a6a0e53",
   "metadata": {},
   "outputs": [],
   "source": [
    "# Check the shape here\n"
   ]
  },
  {
   "cell_type": "code",
   "execution_count": null,
   "id": "ceabb442",
   "metadata": {},
   "outputs": [],
   "source": [
    "# Change the shape here\n"
   ]
  },
  {
   "cell_type": "code",
   "execution_count": null,
   "id": "44fdb488",
   "metadata": {},
   "outputs": [],
   "source": []
  },
  {
   "cell_type": "code",
   "execution_count": null,
   "id": "f5e07a02",
   "metadata": {},
   "outputs": [],
   "source": []
  },
  {
   "cell_type": "markdown",
   "id": "7b97429d",
   "metadata": {},
   "source": [
    "## Q9: Create a new array called tfl_1819 that contains the two arrays tfl_18 and tfl_19 concatenated together on the 1 axis. The shape of tfl_1819 should be (365, 2)"
   ]
  },
  {
   "cell_type": "code",
   "execution_count": null,
   "id": "276a211f",
   "metadata": {},
   "outputs": [],
   "source": [
    "# Concatenate the arrays here\n"
   ]
  },
  {
   "cell_type": "code",
   "execution_count": null,
   "id": "a433b64e",
   "metadata": {},
   "outputs": [],
   "source": [
    "# Check the shape here\n"
   ]
  },
  {
   "cell_type": "code",
   "execution_count": null,
   "id": "df6a39ff",
   "metadata": {},
   "outputs": [],
   "source": []
  },
  {
   "cell_type": "code",
   "execution_count": null,
   "id": "0802d65d",
   "metadata": {},
   "outputs": [],
   "source": []
  },
  {
   "cell_type": "markdown",
   "id": "3edda601",
   "metadata": {},
   "source": [
    "## Q10 Perform the following operations on the concatenated array tfl_1819:\n",
    "1. Find the sum of the columns, this shoe the total bike hires for 2018 and 2019\n",
    "2. Find the average number of bike hires for both columns, this will show the average bike hires for 2018 and 2019\n",
    "3. Find the maximum number of bike hires in both columns,  this will show the maximum bike figure for a single day in 2018 and 2019"
   ]
  },
  {
   "cell_type": "code",
   "execution_count": null,
   "id": "ff2ddad9",
   "metadata": {},
   "outputs": [],
   "source": [
    "# Sum the columns here\n"
   ]
  },
  {
   "cell_type": "code",
   "execution_count": null,
   "id": "0108bec5",
   "metadata": {},
   "outputs": [],
   "source": [
    "# Find the average of the columns here\n"
   ]
  },
  {
   "cell_type": "code",
   "execution_count": null,
   "id": "bd1e274e",
   "metadata": {},
   "outputs": [],
   "source": [
    "# Find the maximum of both columns here\n"
   ]
  },
  {
   "cell_type": "code",
   "execution_count": null,
   "id": "924a56f9",
   "metadata": {},
   "outputs": [],
   "source": []
  },
  {
   "cell_type": "code",
   "execution_count": null,
   "id": "4d70b6c8",
   "metadata": {},
   "outputs": [],
   "source": []
  }
 ],
 "metadata": {
  "kernelspec": {
   "display_name": "Python 3 (ipykernel)",
   "language": "python",
   "name": "python3"
  },
  "language_info": {
   "codemirror_mode": {
    "name": "ipython",
    "version": 3
   },
   "file_extension": ".py",
   "mimetype": "text/x-python",
   "name": "python",
   "nbconvert_exporter": "python",
   "pygments_lexer": "ipython3",
   "version": "3.12.4"
  }
 },
 "nbformat": 4,
 "nbformat_minor": 5
}
