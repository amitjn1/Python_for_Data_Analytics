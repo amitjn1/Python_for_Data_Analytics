{
 "cells": [
  {
   "cell_type": "markdown",
   "id": "ad8c785c",
   "metadata": {},
   "source": [
    "# NumPy Overview"
   ]
  },
  {
   "cell_type": "markdown",
   "id": "1fe49bbb",
   "metadata": {},
   "source": [
    "## Creating Arrays"
   ]
  },
  {
   "cell_type": "markdown",
   "id": "e74129b0",
   "metadata": {},
   "source": [
    "Refer to the official NumPy documentation for more information on the Array Function here: https://numpy.org/doc/stable/reference/generated/numpy.array.html"
   ]
  },
  {
   "cell_type": "code",
   "execution_count": 2,
   "id": "b5d5b209",
   "metadata": {},
   "outputs": [],
   "source": [
    "import numpy as np"
   ]
  },
  {
   "cell_type": "markdown",
   "id": "e0e69eca",
   "metadata": {},
   "source": [
    "### Creating 1D Arrays"
   ]
  },
  {
   "cell_type": "code",
   "execution_count": 7,
   "id": "9645e1ca",
   "metadata": {},
   "outputs": [],
   "source": [
    "list1 = [1,2,3,4,5]"
   ]
  },
  {
   "cell_type": "code",
   "execution_count": 9,
   "id": "cfe801b7",
   "metadata": {},
   "outputs": [],
   "source": [
    "# Turning a list into a NumPy Array\n",
    "x = np.array(list1)"
   ]
  },
  {
   "cell_type": "code",
   "execution_count": 10,
   "id": "b6f794a4",
   "metadata": {},
   "outputs": [
    {
     "data": {
      "text/plain": [
       "numpy.ndarray"
      ]
     },
     "execution_count": 10,
     "metadata": {},
     "output_type": "execute_result"
    }
   ],
   "source": [
    "type(x)"
   ]
  },
  {
   "cell_type": "code",
   "execution_count": 11,
   "id": "6631e6df",
   "metadata": {},
   "outputs": [
    {
     "data": {
      "text/plain": [
       "(5,)"
      ]
     },
     "execution_count": 11,
     "metadata": {},
     "output_type": "execute_result"
    }
   ],
   "source": [
    "np.shape(x)"
   ]
  },
  {
   "cell_type": "code",
   "execution_count": 12,
   "id": "82836c14",
   "metadata": {},
   "outputs": [
    {
     "data": {
      "text/plain": [
       "(5,)"
      ]
     },
     "execution_count": 12,
     "metadata": {},
     "output_type": "execute_result"
    }
   ],
   "source": [
    "x.shape"
   ]
  },
  {
   "cell_type": "code",
   "execution_count": 13,
   "id": "ea415664",
   "metadata": {},
   "outputs": [
    {
     "data": {
      "text/plain": [
       "array([2, 2, 2, 2])"
      ]
     },
     "execution_count": 13,
     "metadata": {},
     "output_type": "execute_result"
    }
   ],
   "source": [
    "np.array([2,2,2,2])"
   ]
  },
  {
   "cell_type": "code",
   "execution_count": 14,
   "id": "98851080",
   "metadata": {},
   "outputs": [
    {
     "data": {
      "text/plain": [
       "array([3, 3, 3, 3])"
      ]
     },
     "execution_count": 14,
     "metadata": {},
     "output_type": "execute_result"
    }
   ],
   "source": [
    "# You can turn a tuple into an Array\n",
    "np.array((3,3,3,3))"
   ]
  },
  {
   "cell_type": "code",
   "execution_count": 16,
   "id": "8e811a7a",
   "metadata": {},
   "outputs": [
    {
     "data": {
      "text/plain": [
       "()"
      ]
     },
     "execution_count": 16,
     "metadata": {},
     "output_type": "execute_result"
    }
   ],
   "source": [
    "# The set is returned as a scalar object\n",
    "np.array({1,1,1,1}).shape"
   ]
  },
  {
   "cell_type": "markdown",
   "id": "2fafeb84",
   "metadata": {},
   "source": [
    "### Creating 2D Arrays"
   ]
  },
  {
   "cell_type": "code",
   "execution_count": 17,
   "id": "ba05b024",
   "metadata": {},
   "outputs": [],
   "source": [
    "# Passing a nested list into the array function to create a 2D Array\n",
    "arr2d = np.array([[1,1,1],[2,2,2],[3,3,3]])"
   ]
  },
  {
   "cell_type": "code",
   "execution_count": 18,
   "id": "af55c5e2",
   "metadata": {},
   "outputs": [
    {
     "data": {
      "text/plain": [
       "array([[1, 1, 1],\n",
       "       [2, 2, 2],\n",
       "       [3, 3, 3]])"
      ]
     },
     "execution_count": 18,
     "metadata": {},
     "output_type": "execute_result"
    }
   ],
   "source": [
    "arr2d"
   ]
  },
  {
   "cell_type": "code",
   "execution_count": 19,
   "id": "453ba468",
   "metadata": {},
   "outputs": [
    {
     "data": {
      "text/plain": [
       "(3, 3)"
      ]
     },
     "execution_count": 19,
     "metadata": {},
     "output_type": "execute_result"
    }
   ],
   "source": [
    "arr2d.shape"
   ]
  },
  {
   "cell_type": "code",
   "execution_count": 20,
   "id": "94727782",
   "metadata": {},
   "outputs": [
    {
     "data": {
      "text/plain": [
       "[1, 2, 3, 4, 5]"
      ]
     },
     "execution_count": 20,
     "metadata": {},
     "output_type": "execute_result"
    }
   ],
   "source": [
    "list1"
   ]
  },
  {
   "cell_type": "code",
   "execution_count": 21,
   "id": "f57fad01",
   "metadata": {},
   "outputs": [],
   "source": [
    "list2 = [6,7,8,9,10]"
   ]
  },
  {
   "cell_type": "code",
   "execution_count": 22,
   "id": "784aefdb",
   "metadata": {},
   "outputs": [],
   "source": [
    "# Passing variables storing lists into the array function to create a 2D Array\n",
    "arr2d_2 = np.array([list1,list2])"
   ]
  },
  {
   "cell_type": "code",
   "execution_count": 23,
   "id": "a485b561",
   "metadata": {},
   "outputs": [
    {
     "data": {
      "text/plain": [
       "array([[ 1,  2,  3,  4,  5],\n",
       "       [ 6,  7,  8,  9, 10]])"
      ]
     },
     "execution_count": 23,
     "metadata": {},
     "output_type": "execute_result"
    }
   ],
   "source": [
    "arr2d_2"
   ]
  },
  {
   "cell_type": "code",
   "execution_count": 24,
   "id": "dc703615",
   "metadata": {},
   "outputs": [
    {
     "data": {
      "text/plain": [
       "(2, 5)"
      ]
     },
     "execution_count": 24,
     "metadata": {},
     "output_type": "execute_result"
    }
   ],
   "source": [
    "arr2d_2.shape"
   ]
  },
  {
   "cell_type": "markdown",
   "id": "f27df3cd",
   "metadata": {},
   "source": [
    "## NumPy DataType Objects"
   ]
  },
  {
   "cell_type": "markdown",
   "id": "25189e2d",
   "metadata": {},
   "source": [
    "https://numpy.org/doc/stable/user/basics.types.html"
   ]
  },
  {
   "cell_type": "code",
   "execution_count": 25,
   "id": "09c88039",
   "metadata": {},
   "outputs": [
    {
     "data": {
      "text/plain": [
       "33.333333333333336"
      ]
     },
     "execution_count": 25,
     "metadata": {},
     "output_type": "execute_result"
    }
   ],
   "source": [
    "100/3"
   ]
  },
  {
   "cell_type": "code",
   "execution_count": 26,
   "id": "aa68f89f",
   "metadata": {},
   "outputs": [
    {
     "data": {
      "text/plain": [
       "33.333333333333333332"
      ]
     },
     "execution_count": 26,
     "metadata": {},
     "output_type": "execute_result"
    }
   ],
   "source": [
    "# longdouble is more precise than the default float64 datatype\n",
    "np.longdouble(100)/np.longdouble(3)"
   ]
  },
  {
   "cell_type": "code",
   "execution_count": 4,
   "id": "00d4e6ac",
   "metadata": {},
   "outputs": [
    {
     "data": {
      "text/plain": [
       "array([1.    , 2.    , 3.1453, 5.    ])"
      ]
     },
     "execution_count": 4,
     "metadata": {},
     "output_type": "execute_result"
    }
   ],
   "source": [
    "np.array([1,2,3.1453,5],dtype='float64')"
   ]
  }
 ],
 "metadata": {
  "kernelspec": {
   "display_name": "Python 3 (ipykernel)",
   "language": "python",
   "name": "python3"
  },
  "language_info": {
   "codemirror_mode": {
    "name": "ipython",
    "version": 3
   },
   "file_extension": ".py",
   "mimetype": "text/x-python",
   "name": "python",
   "nbconvert_exporter": "python",
   "pygments_lexer": "ipython3",
   "version": "3.12.4"
  }
 },
 "nbformat": 4,
 "nbformat_minor": 5
}
