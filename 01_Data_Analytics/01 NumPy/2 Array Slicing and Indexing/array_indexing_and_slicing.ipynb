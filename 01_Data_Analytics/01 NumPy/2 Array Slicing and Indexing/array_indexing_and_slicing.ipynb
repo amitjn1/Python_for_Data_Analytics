{
 "cells": [
  {
   "cell_type": "markdown",
   "id": "605e0327",
   "metadata": {},
   "source": [
    "# Array Slicing and Indexing"
   ]
  },
  {
   "cell_type": "code",
   "execution_count": 1,
   "id": "5f165462",
   "metadata": {},
   "outputs": [],
   "source": [
    "import numpy as np"
   ]
  },
  {
   "cell_type": "code",
   "execution_count": 2,
   "id": "2b8973f8",
   "metadata": {},
   "outputs": [],
   "source": [
    "# This is a 1 dimensional array\n",
    "arr1 = np.array([1,1,1,1])"
   ]
  },
  {
   "cell_type": "code",
   "execution_count": 3,
   "id": "dfcdc1a5",
   "metadata": {},
   "outputs": [],
   "source": [
    "# This is a 2 dimensional array, its a nested list inside of the parenthesis\n",
    "arr2 = np.array([[1,1,1,1]])"
   ]
  },
  {
   "cell_type": "code",
   "execution_count": 4,
   "id": "c18f2405",
   "metadata": {},
   "outputs": [
    {
     "data": {
      "text/plain": [
       "(4,)"
      ]
     },
     "execution_count": 4,
     "metadata": {},
     "output_type": "execute_result"
    }
   ],
   "source": [
    "arr1.shape"
   ]
  },
  {
   "cell_type": "code",
   "execution_count": 5,
   "id": "173b3afc",
   "metadata": {},
   "outputs": [
    {
     "data": {
      "text/plain": [
       "(1, 4)"
      ]
     },
     "execution_count": 5,
     "metadata": {},
     "output_type": "execute_result"
    }
   ],
   "source": [
    "arr2.shape"
   ]
  },
  {
   "cell_type": "markdown",
   "id": "3a6de2c9",
   "metadata": {},
   "source": [
    "## Slicing and Indexing"
   ]
  },
  {
   "cell_type": "markdown",
   "id": "c66672cf",
   "metadata": {},
   "source": [
    "### Slicing and indexing a 1D array"
   ]
  },
  {
   "cell_type": "code",
   "execution_count": 6,
   "id": "ad690276",
   "metadata": {},
   "outputs": [],
   "source": [
    "array_1d = np.array([2,5,6,7,6,4,3])\n",
    "array_2d = np.array([[2,5,6,7,60,47,3],[11,50,6,9,62,42,30],[16,53,86,69,2,2,50]])"
   ]
  },
  {
   "cell_type": "code",
   "execution_count": 7,
   "id": "0bc0bbb3",
   "metadata": {},
   "outputs": [
    {
     "data": {
      "text/plain": [
       "array([2, 5, 6, 7, 6, 4, 3])"
      ]
     },
     "execution_count": 7,
     "metadata": {},
     "output_type": "execute_result"
    }
   ],
   "source": [
    "array_1d"
   ]
  },
  {
   "cell_type": "code",
   "execution_count": 8,
   "id": "6c100d79",
   "metadata": {},
   "outputs": [
    {
     "data": {
      "text/plain": [
       "array([[ 2,  5,  6,  7, 60, 47,  3],\n",
       "       [11, 50,  6,  9, 62, 42, 30],\n",
       "       [16, 53, 86, 69,  2,  2, 50]])"
      ]
     },
     "execution_count": 8,
     "metadata": {},
     "output_type": "execute_result"
    }
   ],
   "source": [
    "array_2d"
   ]
  },
  {
   "cell_type": "code",
   "execution_count": 9,
   "id": "5d4337e9",
   "metadata": {},
   "outputs": [
    {
     "data": {
      "text/plain": [
       "6"
      ]
     },
     "execution_count": 9,
     "metadata": {},
     "output_type": "execute_result"
    }
   ],
   "source": [
    "# Indexing a 1D array is similar to lists, you type the index position inside of the square brackets\n",
    "array_1d[4]"
   ]
  },
  {
   "cell_type": "code",
   "execution_count": 10,
   "id": "9ffc5615",
   "metadata": {},
   "outputs": [
    {
     "data": {
      "text/plain": [
       "array([6, 4, 3])"
      ]
     },
     "execution_count": 10,
     "metadata": {},
     "output_type": "execute_result"
    }
   ],
   "source": [
    "# Slicing is also is similar to lists, you type the start:stop:step position inside of the square brackets\n",
    "array_1d[4:]"
   ]
  },
  {
   "cell_type": "code",
   "execution_count": 11,
   "id": "166ad65a",
   "metadata": {},
   "outputs": [
    {
     "data": {
      "text/plain": [
       "array([5, 6, 7, 6, 4])"
      ]
     },
     "execution_count": 11,
     "metadata": {},
     "output_type": "execute_result"
    }
   ],
   "source": [
    "# Remember that the stop argument is exclusive, this slice takes index 1 up to but not including index 6\n",
    "array_1d[1:6]"
   ]
  },
  {
   "cell_type": "code",
   "execution_count": 12,
   "id": "0a97e11e",
   "metadata": {},
   "outputs": [
    {
     "data": {
      "text/plain": [
       "array([3, 4, 6, 7, 6, 5, 2])"
      ]
     },
     "execution_count": 12,
     "metadata": {},
     "output_type": "execute_result"
    }
   ],
   "source": [
    "# A step of -1, it reverses the list\n",
    "array_1d[::-1]"
   ]
  },
  {
   "cell_type": "markdown",
   "id": "4473148f",
   "metadata": {},
   "source": [
    "### Slicing and indexing a 2D array"
   ]
  },
  {
   "cell_type": "code",
   "execution_count": 13,
   "id": "439573c2",
   "metadata": {},
   "outputs": [
    {
     "data": {
      "text/plain": [
       "array([[ 2,  5,  6,  7, 60, 47,  3],\n",
       "       [11, 50,  6,  9, 62, 42, 30],\n",
       "       [16, 53, 86, 69,  2,  2, 50]])"
      ]
     },
     "execution_count": 13,
     "metadata": {},
     "output_type": "execute_result"
    }
   ],
   "source": [
    "array_2d"
   ]
  },
  {
   "cell_type": "code",
   "execution_count": 14,
   "id": "87d983e3",
   "metadata": {},
   "outputs": [
    {
     "data": {
      "text/plain": [
       "array([[ 6,  9, 62, 42, 30],\n",
       "       [86, 69,  2,  2, 50]])"
      ]
     },
     "execution_count": 14,
     "metadata": {},
     "output_type": "execute_result"
    }
   ],
   "source": [
    "# Indexing/ slicing a 2D array requires the rows and column index or slice to be seperated by a comma\n",
    "array_2d[1:,2:]"
   ]
  },
  {
   "cell_type": "code",
   "execution_count": 15,
   "id": "1a96a67a",
   "metadata": {},
   "outputs": [
    {
     "data": {
      "text/plain": [
       "50"
      ]
     },
     "execution_count": 15,
     "metadata": {},
     "output_type": "execute_result"
    }
   ],
   "source": [
    "# Indexing element at row 3 (index 2) column 7 (index 6)\n",
    "array_2d[2,6]"
   ]
  },
  {
   "cell_type": "code",
   "execution_count": 16,
   "id": "0d3f18d5",
   "metadata": {},
   "outputs": [
    {
     "data": {
      "text/plain": [
       "array([[16, 53, 86, 69,  2,  2, 50],\n",
       "       [11, 50,  6,  9, 62, 42, 30],\n",
       "       [ 2,  5,  6,  7, 60, 47,  3]])"
      ]
     },
     "execution_count": 16,
     "metadata": {},
     "output_type": "execute_result"
    }
   ],
   "source": [
    "# Using a step of -1 on the rows will reverse the index on the 0 axis (the 0 axis goes down the rows)\n",
    "array_2d[::-1,]"
   ]
  },
  {
   "cell_type": "code",
   "execution_count": 17,
   "id": "c0c4f3f8",
   "metadata": {},
   "outputs": [
    {
     "data": {
      "text/plain": [
       "array([[ 3, 47, 60,  7,  6,  5,  2],\n",
       "       [30, 42, 62,  9,  6, 50, 11],\n",
       "       [50,  2,  2, 69, 86, 53, 16]])"
      ]
     },
     "execution_count": 17,
     "metadata": {},
     "output_type": "execute_result"
    }
   ],
   "source": [
    "# Using a step of -1 on the columns will reverse the index on the 1 axis (the 0 axis across down the columns)\n",
    "# Note you must enter any value for the rows even'::' before indexing or slicing the columns\n",
    "array_2d[::,::-1]"
   ]
  },
  {
   "cell_type": "markdown",
   "id": "fb6e8fc5",
   "metadata": {},
   "source": [
    "## Boolean Array Indexing"
   ]
  },
  {
   "cell_type": "code",
   "execution_count": 18,
   "id": "ee482399",
   "metadata": {},
   "outputs": [
    {
     "data": {
      "text/plain": [
       "array([2, 5, 6, 7, 6, 4, 3])"
      ]
     },
     "execution_count": 18,
     "metadata": {},
     "output_type": "execute_result"
    }
   ],
   "source": [
    "array_1d"
   ]
  },
  {
   "cell_type": "code",
   "execution_count": 19,
   "id": "3c88a1fc",
   "metadata": {},
   "outputs": [
    {
     "data": {
      "text/plain": [
       "array([False,  True,  True,  True,  True,  True, False])"
      ]
     },
     "execution_count": 19,
     "metadata": {},
     "output_type": "execute_result"
    }
   ],
   "source": [
    "# This conditional statement returns a boolean array\n",
    "array_1d>3"
   ]
  },
  {
   "cell_type": "code",
   "execution_count": 20,
   "id": "42f97391",
   "metadata": {},
   "outputs": [
    {
     "data": {
      "text/plain": [
       "array([5, 6, 7, 6, 4])"
      ]
     },
     "execution_count": 20,
     "metadata": {},
     "output_type": "execute_result"
    }
   ],
   "source": [
    "# The conditional statement can be used to filter the array\n",
    "array_1d[array_1d>3]"
   ]
  },
  {
   "cell_type": "code",
   "execution_count": 21,
   "id": "808b12ad",
   "metadata": {},
   "outputs": [
    {
     "data": {
      "text/plain": [
       "array([[ 2,  5,  6,  7, 60, 47,  3],\n",
       "       [11, 50,  6,  9, 62, 42, 30],\n",
       "       [16, 53, 86, 69,  2,  2, 50]])"
      ]
     },
     "execution_count": 21,
     "metadata": {},
     "output_type": "execute_result"
    }
   ],
   "source": [
    "array_2d"
   ]
  },
  {
   "cell_type": "code",
   "execution_count": 22,
   "id": "b086ea9a",
   "metadata": {},
   "outputs": [
    {
     "data": {
      "text/plain": [
       "array([[False, False, False, False,  True,  True, False],\n",
       "       [ True,  True, False, False,  True,  True,  True],\n",
       "       [ True,  True,  True,  True, False, False,  True]])"
      ]
     },
     "execution_count": 22,
     "metadata": {},
     "output_type": "execute_result"
    }
   ],
   "source": [
    "array_2d>10"
   ]
  },
  {
   "cell_type": "code",
   "execution_count": 23,
   "id": "d852c103",
   "metadata": {},
   "outputs": [
    {
     "data": {
      "text/plain": [
       "array([60, 47, 11, 50, 62, 42, 30, 16, 53, 86, 69, 50])"
      ]
     },
     "execution_count": 23,
     "metadata": {},
     "output_type": "execute_result"
    }
   ],
   "source": [
    "# A flattened 1D array is returned when filtering via Boolean Array Indexing\n",
    "array_2d[array_2d>10]"
   ]
  },
  {
   "cell_type": "code",
   "execution_count": 24,
   "id": "9090131e",
   "metadata": {},
   "outputs": [
    {
     "data": {
      "text/plain": [
       "(12,)"
      ]
     },
     "execution_count": 24,
     "metadata": {},
     "output_type": "execute_result"
    }
   ],
   "source": [
    "array_2d[array_2d>10].shape"
   ]
  },
  {
   "cell_type": "code",
   "execution_count": 25,
   "id": "43d57c2c",
   "metadata": {},
   "outputs": [],
   "source": [
    "# But you can reshape it using the reshape function"
   ]
  },
  {
   "cell_type": "code",
   "execution_count": 26,
   "id": "9ce15fa0",
   "metadata": {},
   "outputs": [
    {
     "data": {
      "text/plain": [
       "array([[60, 47, 11, 50, 62, 42],\n",
       "       [30, 16, 53, 86, 69, 50]])"
      ]
     },
     "execution_count": 26,
     "metadata": {},
     "output_type": "execute_result"
    }
   ],
   "source": [
    "array_2d[array_2d>10].reshape(2,6)"
   ]
  },
  {
   "cell_type": "markdown",
   "id": "c17cdcd2",
   "metadata": {},
   "source": [
    "### You can assign values to multiple elements in an Array, unlike with a List"
   ]
  },
  {
   "cell_type": "code",
   "execution_count": 27,
   "id": "46d5ddc7",
   "metadata": {},
   "outputs": [],
   "source": [
    "array_1 = np.array([1,1,2,3,4])"
   ]
  },
  {
   "cell_type": "code",
   "execution_count": 28,
   "id": "7a5c1eaa",
   "metadata": {},
   "outputs": [],
   "source": [
    "list_1 = [1,1,2,3,4]"
   ]
  },
  {
   "cell_type": "code",
   "execution_count": 29,
   "id": "e56efc23",
   "metadata": {},
   "outputs": [],
   "source": [
    "# You an change the value of a single element in a List\n",
    "list_1[0]=10"
   ]
  },
  {
   "cell_type": "code",
   "execution_count": 30,
   "id": "fe0a61c8",
   "metadata": {},
   "outputs": [
    {
     "data": {
      "text/plain": [
       "[10, 1, 2, 3, 4]"
      ]
     },
     "execution_count": 30,
     "metadata": {},
     "output_type": "execute_result"
    }
   ],
   "source": [
    "list_1"
   ]
  },
  {
   "cell_type": "code",
   "execution_count": 31,
   "id": "cb6088cd",
   "metadata": {},
   "outputs": [
    {
     "ename": "TypeError",
     "evalue": "can only assign an iterable",
     "output_type": "error",
     "traceback": [
      "\u001b[0;31m---------------------------------------------------------------------------\u001b[0m",
      "\u001b[0;31mTypeError\u001b[0m                                 Traceback (most recent call last)",
      "\u001b[0;32m/var/folders/yg/s7srppzj68gg2kxw49gsgbyr0000gn/T/ipykernel_44858/3325408865.py\u001b[0m in \u001b[0;36m<module>\u001b[0;34m\u001b[0m\n\u001b[1;32m      1\u001b[0m \u001b[0;31m# But you can't change multiple elements with the below assignment operation\u001b[0m\u001b[0;34m\u001b[0m\u001b[0;34m\u001b[0m\u001b[0m\n\u001b[0;32m----> 2\u001b[0;31m \u001b[0mlist_1\u001b[0m\u001b[0;34m[\u001b[0m\u001b[0;34m:\u001b[0m\u001b[0;34m:\u001b[0m\u001b[0;34m]\u001b[0m\u001b[0;34m=\u001b[0m\u001b[0;36m10\u001b[0m\u001b[0;34m\u001b[0m\u001b[0;34m\u001b[0m\u001b[0m\n\u001b[0m",
      "\u001b[0;31mTypeError\u001b[0m: can only assign an iterable"
     ]
    }
   ],
   "source": [
    "# But you can't change multiple elements with the below assignment operation\n",
    "list_1[::]=10"
   ]
  },
  {
   "cell_type": "code",
   "execution_count": 32,
   "id": "8c9be707",
   "metadata": {},
   "outputs": [],
   "source": [
    "# But you can with arrays, all elements are assigned the value of 10\n",
    "array_1d[:]=10"
   ]
  },
  {
   "cell_type": "code",
   "execution_count": 33,
   "id": "31fd59b8",
   "metadata": {},
   "outputs": [
    {
     "data": {
      "text/plain": [
       "array([10, 10, 10, 10, 10, 10, 10])"
      ]
     },
     "execution_count": 33,
     "metadata": {},
     "output_type": "execute_result"
    }
   ],
   "source": [
    "array_1d"
   ]
  },
  {
   "cell_type": "markdown",
   "id": "8e91a3b8",
   "metadata": {},
   "source": [
    "## Links and Resources\n",
    "* https://www.w3schools.com/python/numpy/numpy_array_indexing.asp\n",
    "* https://www.w3schools.com/python/numpy/numpy_array_slicing.asp"
   ]
  }
 ],
 "metadata": {
  "kernelspec": {
   "display_name": "Python 3 (ipykernel)",
   "language": "python",
   "name": "python3"
  },
  "language_info": {
   "codemirror_mode": {
    "name": "ipython",
    "version": 3
   },
   "file_extension": ".py",
   "mimetype": "text/x-python",
   "name": "python",
   "nbconvert_exporter": "python",
   "pygments_lexer": "ipython3",
   "version": "3.9.7"
  }
 },
 "nbformat": 4,
 "nbformat_minor": 5
}
