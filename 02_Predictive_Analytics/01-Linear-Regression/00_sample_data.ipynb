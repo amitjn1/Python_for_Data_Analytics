{
 "cells": [
  {
   "cell_type": "code",
   "execution_count": 2,
   "metadata": {},
   "outputs": [
    {
     "name": "stdout",
     "output_type": "stream",
     "text": [
      "house_prices.csv file created successfully with 100 rows!\n"
     ]
    }
   ],
   "source": [
    "import pandas as pd\n",
    "import numpy as np\n",
    "\n",
    "# Seed for reproducibility\n",
    "np.random.seed(42)\n",
    "\n",
    "# Generate random data\n",
    "square_footage = np.random.randint(1000, 4000, size=1000)\n",
    "bedrooms = np.random.randint(2, 6, size=1000)\n",
    "bathrooms = np.random.randint(1, 4, size=1000)\n",
    "year_built = np.random.randint(1980, 2022, size=1000)\n",
    "price = (square_footage * 150) + (bedrooms * 10000) + (bathrooms * 5000) + np.random.randint(-20000, 20000, size=1000)\n",
    "\n",
    "# Create a DataFrame\n",
    "data = {\n",
    "    \"Square_Footage\": square_footage,\n",
    "    \"Bedrooms\": bedrooms,\n",
    "    \"Bathrooms\": bathrooms,\n",
    "    \"Year_Built\": year_built,\n",
    "    \"Price\": price\n",
    "}\n",
    "\n",
    "df = pd.DataFrame(data)\n",
    "\n",
    "# Save to CSV\n",
    "df.to_csv('house_prices.csv', index=False)\n",
    "\n",
    "print(\"house_prices.csv file created successfully with 100 rows!\")\n"
   ]
  }
 ],
 "metadata": {
  "kernelspec": {
   "display_name": "base",
   "language": "python",
   "name": "python3"
  },
  "language_info": {
   "codemirror_mode": {
    "name": "ipython",
    "version": 3
   },
   "file_extension": ".py",
   "mimetype": "text/x-python",
   "name": "python",
   "nbconvert_exporter": "python",
   "pygments_lexer": "ipython3",
   "version": "3.12.4"
  }
 },
 "nbformat": 4,
 "nbformat_minor": 2
}
