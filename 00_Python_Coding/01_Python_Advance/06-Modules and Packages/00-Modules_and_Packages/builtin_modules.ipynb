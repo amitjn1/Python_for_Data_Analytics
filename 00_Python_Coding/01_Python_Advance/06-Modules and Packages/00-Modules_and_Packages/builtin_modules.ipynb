{
 "cells": [
  {
   "cell_type": "markdown",
   "metadata": {},
   "source": [
    "# Built-In Modules\n",
    "\n",
    "Python has many built-in modules, link: https://docs.python.org/3/py-modindex.html"
   ]
  },
  {
   "cell_type": "code",
   "execution_count": 1,
   "metadata": {},
   "outputs": [
    {
     "name": "stdout",
     "output_type": "stream",
     "text": [
      "\n",
      "Please wait a moment while I gather a list of all available modules...\n",
      "\n"
     ]
    },
    {
     "name": "stderr",
     "output_type": "stream",
     "text": [
      "c:\\Users\\Amit\\anaconda3\\Lib\\site-packages\\paramiko\\transport.py:219: CryptographyDeprecationWarning: Blowfish has been deprecated and will be removed in a future release\n",
      "  \"class\": algorithms.Blowfish,\n",
      "c:\\Users\\Amit\\anaconda3\\Lib\\site-packages\\nltk\\twitter\\__init__.py:20: UserWarning: The twython library has not been installed. Some functionality from the twitter package will not be available.\n",
      "  warnings.warn(\n",
      "c:\\Users\\Amit\\anaconda3\\Lib\\pkgutil.py:78: UserWarning: The numpy.array_api submodule is still experimental. See NEP 47.\n",
      "  __import__(info.name)\n",
      "No QCoreApplication instance found. Application patches not applied. You have to call load_stylesheet function after instantiation of QApplication to take effect. \n"
     ]
    },
    {
     "name": "stdout",
     "output_type": "stream",
     "text": [
      "7f0197f6d050da244d93__mypyc code                matplotlib          smmap\n",
      "IPython             codecs              matplotlib_inline   smtplib\n",
      "MyMainPackage       codeop              mccabe              snappy\n",
      "OpenSSL             collections         mdit_py_plugins     sndhdr\n",
      "PIL                 colorama            mdurl               sniffio\n",
      "PyQt5               colorcet            menuinst            snowballstemmer\n",
      "__future__          colorsys            mimetypes           socket\n",
      "__hello__           comm                mistune             socketserver\n",
      "__phello__          commctrl            mkl                 socks\n",
      "_abc                compileall          mkl_fft             sockshandler\n",
      "_aix_support        concurrent          mmap                sortedcontainers\n",
      "_argon2_cffi_bindings conda               mmapfile            soupsieve\n",
      "_ast                conda_build         mmsystem            sphinx\n",
      "_asyncio            conda_content_trust modulefinder        spyder\n",
      "_bisect             conda_env           more_itertools      spyder_kernels\n",
      "_black_version      conda_index         mpmath              sqlalchemy\n",
      "_blake2             conda_libmamba_solver msgpack             sqlite3\n",
      "_brotli             conda_pack          msilib              sre_compile\n",
      "_bz2                conda_package_handling msvcrt              sre_constants\n",
      "_cffi_backend       conda_package_streaming multidict           sre_parse\n",
      "_codecs             conda_token         multipledispatch    ssl\n",
      "_codecs_cn          configparser        multiprocessing     sspi\n",
      "_codecs_hk          constantly          mymodule            sspicon\n",
      "_codecs_iso2022     contextlib          myprogram           stack_data\n",
      "_codecs_jp          contextvars         mypy                stat\n",
      "_codecs_kr          contourpy           mypy_extensions     statistics\n",
      "_codecs_tw          cookiecutter        mypyc               statsmodels\n",
      "_collections        copy                nacl                streamlit\n",
      "_collections_abc    copyreg             navigator_updater   string\n",
      "_compat_pickle      cpuinfo             nbclient            stringprep\n",
      "_compression        crypt               nbconvert           struct\n",
      "_contextvars        cryptography        nbformat            subprocess\n",
      "_csv                cssselect           nest_asyncio        sunau\n",
      "_ctypes             csv                 netbios             sympy\n",
      "_ctypes_test        ctypes              netrc               symtable\n",
      "_datetime           curl                networkx            sys\n",
      "_decimal            curses              nltk                sysconfig\n",
      "_distutils_hack     cwp                 nntplib             tables\n",
      "_elementtree        cycler              notebook            tabnanny\n",
      "_functools          cytoolz             notebook_shim       tabulate\n",
      "_hashlib            dask                nt                  tarfile\n",
      "_heapq              dask_expr           ntpath              tblib\n",
      "_imp                dataclasses         ntsecuritycon       telnetlib\n",
      "_io                 datashader          nturl2path          tempfile\n",
      "_json               datetime            numba               tenacity\n",
      "_locale             dateutil            numbergen           terminado\n",
      "_lsprof             dbi                 numbers             test\n",
      "_lzma               dbm                 numexpr             test_pycosat\n",
      "_markupbase         dde                 numpy               text_unidecode\n",
      "_md5                debugpy             numpydoc            textdistance\n",
      "_msi                decimal             odbc                textwrap\n",
      "_multibytecodec     decorator           opcode              this\n",
      "_multiprocessing    defusedxml          openpyxl            threading\n",
      "_nsis               diff_match_patch    operator            threadpoolctl\n",
      "_opcode             difflib             optparse            three_merge\n",
      "_operator           dill                os                  tifffile\n",
      "_osx_support        dis                 overrides           time\n",
      "_overlapped         distributed         packaging           timeit\n",
      "_pickle             distro              pandas              timer\n",
      "_plotly_future_     docstring_to_markdown pandocfilters       tinycss2\n",
      "_plotly_utils       doctest             panel               tkinter\n",
      "_py_abc             docutils            param               tldextract\n",
      "_pydatetime         dotenv              paramiko            tlz\n",
      "_pydecimal          email               parsel              token\n",
      "_pyio               encodings           parso               tokenize\n",
      "_pylong             ensurepip           partd               toml\n",
      "_pytest             entrypoints         pathlib             tomli\n",
      "_queue              enum                pathspec            tomlkit\n",
      "_random             erfa                patsy               tomllib\n",
      "_sha1               errno               pdb                 toolz\n",
      "_sha2               et_xmlfile          perfmon             tornado\n",
      "_sha3               executing           pexpect             tqdm\n",
      "_signal             fastjsonschema      pickle              trace\n",
      "_sitebuiltins       faulthandler        pickleshare         traceback\n",
      "_socket             filecmp             pickletools         tracemalloc\n",
      "_sqlite3            fileinput           pip                 traitlets\n",
      "_sre                filelock            pipes               truststore\n",
      "_ssl                flake8              pkce                tty\n",
      "_stat               flask               pkg_resources       turtle\n",
      "_statistics         fnmatch             pkginfo             turtledemo\n",
      "_string             fontTools           pkgutil             twisted\n",
      "_strptime           fractions           platform            types\n",
      "_struct             frozendict          platformdirs        typing\n",
      "_symtable           frozenlist          plistlib            typing_extensions\n",
      "_system_path        fsspec              plotly              tzdata\n",
      "_testbuffer         ftplib              pluggy              uc_micro\n",
      "_testcapi           functools           ply                 ujson\n",
      "_testclinic         gc                  poplib              unicodedata\n",
      "_testconsole        genericpath         posixpath           unicodedata2\n",
      "_testimportmultiple gensim              pprint              unidecode\n",
      "_testinternalcapi   getopt              profile             unittest\n",
      "_testmultiphase     getpass             prometheus_client   urllib\n",
      "_testsinglephase    gettext             prompt_toolkit      urllib3\n",
      "_thread             git                 protego             uu\n",
      "_threading_local    gitdb               pstats              uuid\n",
      "_tkinter            glob                psutil              venv\n",
      "_tokenize           graphlib            pty                 w3lib\n",
      "_tracemalloc        greenlet            ptyprocess          warnings\n",
      "_typing             gzip                pure_eval           watchdog\n",
      "_uuid               h11                 py                  wave\n",
      "_warnings           h5py                py_compile          wcwidth\n",
      "_weakref            hashlib             pyarrow             weakref\n",
      "_weakrefset         heapdict            pyasn1              webbrowser\n",
      "_win32sysloader     heapq               pyasn1_modules      webencodings\n",
      "_winapi             hmac                pyclbr              websocket\n",
      "_winxptheme         holoviews           pycodestyle         werkzeug\n",
      "_wmi                html                pycosat             whatthepatch\n",
      "_xxinterpchannels   http                pycparser           wheel\n",
      "_xxsubinterpreters  httpcore            pyct                widgetsnbextension\n",
      "_yaml               httpx               pycurl              win2kras\n",
      "_zoneinfo           hvplot              pydantic            win32api\n",
      "abc                 hyperlink           pydantic_core       win32clipboard\n",
      "adodbapi            idlelib             pydeck              win32com\n",
      "aext_assistant      idna                pydispatch          win32con\n",
      "aext_assistant_server imagecodecs         pydoc               win32console\n",
      "aext_core           imageio             pydoc_data          win32cred\n",
      "aext_core_server    imagesize           pydocstyle          win32crypt\n",
      "aext_panels         imaplib             pyexpat             win32cryptcon\n",
      "aext_panels_server  imblearn            pyflakes            win32ctypes\n",
      "aext_share_notebook imghdr              pygments            win32event\n",
      "aext_share_notebook_server importlib           pylab               win32evtlog\n",
      "aext_shared         importlib_metadata  pylint              win32evtlogutil\n",
      "afxres              incremental         pylint_venv         win32file\n",
      "aifc                inflection          pyls_spyder         win32gui\n",
      "aiobotocore         iniconfig           pylsp               win32gui_struct\n",
      "aiohttp             inspect             pylsp_black         win32help\n",
      "aioitertools        intake              pylsp_jsonrpc       win32inet\n",
      "aiosignal           intervaltree        pyodbc              win32inetcon\n",
      "alabaster           io                  pyparsing           win32job\n",
      "altair              ipaddress           pytest              win32lz\n",
      "anaconda_anon_usage ipykernel           pythoncom           win32net\n",
      "anaconda_catalogs   ipykernel_launcher  pythonjsonlogger    win32netcon\n",
      "anaconda_cloud_auth ipython_genutils    pytoolconfig        win32pdh\n",
      "anaconda_navigator  ipywidgets          pytz                win32pdhquery\n",
      "anaconda_project    isapi               pyviz_comms         win32pdhutil\n",
      "annotated_types     isort               pywin               win32pipe\n",
      "antigravity         isympy              pywin32_bootstrap   win32print\n",
      "anyio               itemadapter         pywin32_testutil    win32process\n",
      "appdirs             itemloaders         pywintypes          win32profile\n",
      "archspec            itertools           pywt                win32ras\n",
      "argon2              itsdangerous        qdarkstyle          win32rcparser\n",
      "argparse            jedi                qstylizer           win32security\n",
      "array               jellyfish           qtawesome           win32service\n",
      "arrow               jinja2              qtconsole           win32serviceutil\n",
      "ast                 jmespath            qtpy                win32timezone\n",
      "astroid             joblib              queue               win32trace\n",
      "astropy             json                queuelib            win32traceutil\n",
      "astropy_iers_data   json5               quopri              win32transaction\n",
      "asttokens           jsonpatch           random              win32ts\n",
      "async_lru           jsonpointer         rasutil             win32ui\n",
      "asyncio             jsonschema          re                  win32uiole\n",
      "atexit              jsonschema_specifications referencing         win32verstamp\n",
      "atomicwrites        jupyter             regcheck            win32wnet\n",
      "attr                jupyter_client      regex               win_inet_pton\n",
      "attrs               jupyter_console     regutil             winerror\n",
      "audioop             jupyter_core        repo_cli            winioctlcon\n",
      "automat             jupyter_events      reprlib             winnt\n",
      "autopep8            jupyter_lsp         requests            winperf\n",
      "babel               jupyter_server      requests_file       winpty\n",
      "base64              jupyter_server_terminals requests_toolbelt   winreg\n",
      "bcrypt              jupyterlab          rfc3339_validator   winsound\n",
      "bdb                 jupyterlab_plotly   rfc3986_validator   winxpgui\n",
      "binaryornot         jupyterlab_pygments rich                winxptheme\n",
      "binascii            jupyterlab_server   rlcompleter         wrapt\n",
      "binstar_client      jupyterlab_widgets  rope                wsgiref\n",
      "bisect              jwt                 rpds                xarray\n",
      "black               keyring             rtree               xdrlib\n",
      "blackd              keyword             ruamel_yaml         xlwings\n",
      "bleach              kiwisolver          runpy               xlwingsjs\n",
      "blib2to3            lazy_loader         s3fs                xml\n",
      "blinker             lazy_object_proxy   sched               xmlrpc\n",
      "bokeh               lckr_jupyterlab_variableinspector scipy               xxlimited\n",
      "boltons             lib2to3             scrapy              xxlimited_35\n",
      "botocore            libarchive          seaborn             xxsubtype\n",
      "bottleneck          libmambapy          secrets             xyzservices\n",
      "brotli              lief                select              yaml\n",
      "bs4                 linecache           selectors           yapf\n",
      "builtins            linkify_it          semver              yapf_third_party\n",
      "bz2                 llvmlite            send2trash          yapftests\n",
      "cProfile            lmdb                service_identity    yarl\n",
      "cachetools          locale              servicemanager      zict\n",
      "calendar            locket              setuptools          zipapp\n",
      "certifi             logging             shelve              zipfile\n",
      "cffi                lxml                shlex               zipimport\n",
      "cgi                 lz4                 shutil              zipp\n",
      "cgitb               lzma                signal              zlib\n",
      "chardet             mailbox             sipbuild            zmq\n",
      "charset_normalizer  mailcap             site                zoneinfo\n",
      "chunk               markdown            six                 zope\n",
      "click               markdown_it         skimage             zstandard\n",
      "cloudpickle         markupsafe          sklearn             \n",
      "cmath               marshal             slugify             \n",
      "cmd                 math                smart_open          \n",
      "\n",
      "Enter any module name to get more help.  Or, type \"modules spam\" to search\n",
      "for modules whose name or summary contain the string \"spam\".\n",
      "\n"
     ]
    }
   ],
   "source": [
    "help('modules')"
   ]
  },
  {
   "cell_type": "code",
   "execution_count": 2,
   "metadata": {},
   "outputs": [],
   "source": [
    "import statistics"
   ]
  },
  {
   "cell_type": "code",
   "execution_count": 3,
   "metadata": {},
   "outputs": [],
   "source": [
    "nums = [1,2,3,4,5]"
   ]
  },
  {
   "cell_type": "code",
   "execution_count": 4,
   "metadata": {},
   "outputs": [
    {
     "data": {
      "text/plain": [
       "3"
      ]
     },
     "execution_count": 4,
     "metadata": {},
     "output_type": "execute_result"
    }
   ],
   "source": [
    "statistics.mean(nums)"
   ]
  },
  {
   "cell_type": "code",
   "execution_count": 5,
   "metadata": {},
   "outputs": [],
   "source": [
    "from statistics import mean"
   ]
  },
  {
   "cell_type": "code",
   "execution_count": 6,
   "metadata": {},
   "outputs": [
    {
     "data": {
      "text/plain": [
       "3"
      ]
     },
     "execution_count": 6,
     "metadata": {},
     "output_type": "execute_result"
    }
   ],
   "source": [
    "mean(nums)"
   ]
  },
  {
   "cell_type": "code",
   "execution_count": 7,
   "metadata": {},
   "outputs": [],
   "source": [
    "import statistics as st"
   ]
  },
  {
   "cell_type": "code",
   "execution_count": 8,
   "metadata": {},
   "outputs": [
    {
     "data": {
      "text/plain": [
       "3"
      ]
     },
     "execution_count": 8,
     "metadata": {},
     "output_type": "execute_result"
    }
   ],
   "source": [
    "st.mean(nums)"
   ]
  }
 ],
 "metadata": {
  "kernelspec": {
   "display_name": "base",
   "language": "python",
   "name": "python3"
  },
  "language_info": {
   "codemirror_mode": {
    "name": "ipython",
    "version": 3
   },
   "file_extension": ".py",
   "mimetype": "text/x-python",
   "name": "python",
   "nbconvert_exporter": "python",
   "pygments_lexer": "ipython3",
   "version": "3.12.4"
  }
 },
 "nbformat": 4,
 "nbformat_minor": 2
}
